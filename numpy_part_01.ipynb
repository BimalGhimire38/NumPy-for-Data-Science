{
 "cells": [
  {
   "cell_type": "markdown",
   "id": "3675708d",
   "metadata": {},
   "source": [
    "2082/05/23  11:33 AM, @CWRS, Pulchowk Campus\n",
    "\n",
    "[NumPy](https://numpy.org/doc/2.3/user/absolute_beginners.html)"
   ]
  },
  {
   "cell_type": "code",
   "execution_count": 1,
   "id": "385ffcaf",
   "metadata": {},
   "outputs": [],
   "source": [
    "import numpy as np"
   ]
  },
  {
   "cell_type": "code",
   "execution_count": 3,
   "id": "fceec093",
   "metadata": {},
   "outputs": [
    {
     "data": {
      "text/plain": [
       "array([[1, 2, 3],\n",
       "       [4, 5, 6]])"
      ]
     },
     "execution_count": 3,
     "metadata": {},
     "output_type": "execute_result"
    }
   ],
   "source": [
    "a = np.array([[1,2,3],[4,5,6]])\n",
    "a"
   ]
  },
  {
   "cell_type": "code",
   "execution_count": 4,
   "id": "3c199290",
   "metadata": {},
   "outputs": [
    {
     "data": {
      "text/plain": [
       "(2, 3)"
      ]
     },
     "execution_count": 4,
     "metadata": {},
     "output_type": "execute_result"
    }
   ],
   "source": [
    "a.shape"
   ]
  },
  {
   "cell_type": "markdown",
   "id": "9d7910ac",
   "metadata": {},
   "source": [
    "# Why use NumPy?\n",
    "Python lists are excellent, general-purpose containers. They can be “heterogeneous”, meaning that they can contain elements of a variety of types, and they are quite fast when used to perform individual operations on a handful of elements.\n",
    "\n",
    "Depending on the characteristics of the data and the types of operations that need to be performed, other containers may be more appropriate; by exploiting these characteristics, we can improve speed, reduce memory consumption, and offer a high-level syntax for performing a variety of common processing tasks. NumPy shines when there are large quantities of “homogeneous” (same-type) data to be processed on the CPU."
   ]
  },
  {
   "cell_type": "markdown",
   "id": "9fbe9194",
   "metadata": {},
   "source": [
    "# What is an “array”?\n",
    "In computer programming, an array is a structure for storing and retrieving data. We often talk about an array as if it were a grid in space, with each cell storing one element of the data. For instance, if each element of the data were a number, we might visualize a “one-dimensional” array like a list:"
   ]
  },
  {
   "cell_type": "markdown",
   "id": "e867ebf1",
   "metadata": {},
   "source": [
    "## Most NumPy arrays have some restrictions. For instance:\n",
    "\n",
    "All elements of the array must be of the same type of data.\n",
    "\n",
    "Once created, the total size of the array can’t change.\n",
    "\n",
    "The shape must be “rectangular”, not “jagged”; e.g., each row of a two-dimensional array must have the same number of columns."
   ]
  },
  {
   "cell_type": "code",
   "execution_count": 5,
   "id": "b53111a4",
   "metadata": {},
   "outputs": [
    {
     "data": {
      "text/plain": [
       "array([1, 2, 3, 4, 5, 6])"
      ]
     },
     "execution_count": 5,
     "metadata": {},
     "output_type": "execute_result"
    }
   ],
   "source": [
    "a = np.array([1,2,3,4,5,6])\n",
    "a"
   ]
  },
  {
   "cell_type": "code",
   "execution_count": 6,
   "id": "e0fe5b8e",
   "metadata": {},
   "outputs": [
    {
     "data": {
      "text/plain": [
       "np.int64(1)"
      ]
     },
     "execution_count": 6,
     "metadata": {},
     "output_type": "execute_result"
    }
   ],
   "source": [
    "a[0]"
   ]
  },
  {
   "cell_type": "code",
   "execution_count": 9,
   "id": "7bf3dbd5",
   "metadata": {},
   "outputs": [
    {
     "data": {
      "text/plain": [
       "array([15,  2,  3,  4,  5,  6])"
      ]
     },
     "execution_count": 9,
     "metadata": {},
     "output_type": "execute_result"
    }
   ],
   "source": [
    "# Array are mutable\n",
    "a[0]=15\n",
    "a"
   ]
  },
  {
   "cell_type": "code",
   "execution_count": 10,
   "id": "5b24c7db",
   "metadata": {},
   "outputs": [
    {
     "data": {
      "text/plain": [
       "array([15,  2,  3])"
      ]
     },
     "execution_count": 10,
     "metadata": {},
     "output_type": "execute_result"
    }
   ],
   "source": [
    "a[:3]"
   ]
  },
  {
   "cell_type": "code",
   "execution_count": 12,
   "id": "41e4c9ad",
   "metadata": {},
   "outputs": [],
   "source": [
    "b = a[3:]"
   ]
  },
  {
   "cell_type": "code",
   "execution_count": null,
   "id": "079606b4",
   "metadata": {},
   "outputs": [],
   "source": []
  }
 ],
 "metadata": {
  "kernelspec": {
   "display_name": "base",
   "language": "python",
   "name": "python3"
  },
  "language_info": {
   "codemirror_mode": {
    "name": "ipython",
    "version": 3
   },
   "file_extension": ".py",
   "mimetype": "text/x-python",
   "name": "python",
   "nbconvert_exporter": "python",
   "pygments_lexer": "ipython3",
   "version": "3.13.5"
  }
 },
 "nbformat": 4,
 "nbformat_minor": 5
}
