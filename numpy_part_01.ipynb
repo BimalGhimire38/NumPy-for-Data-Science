{
 "cells": [
  {
   "cell_type": "markdown",
   "id": "3675708d",
   "metadata": {},
   "source": [
    "2082/05/23  11:33 AM, @CWRS, Pulchowk Campus\n",
    "\n",
    "[NumPy](https://numpy.org/doc/2.3/user/absolute_beginners.html)"
   ]
  },
  {
   "cell_type": "code",
   "execution_count": null,
   "id": "385ffcaf",
   "metadata": {},
   "outputs": [],
   "source": []
  },
  {
   "cell_type": "markdown",
   "id": "f83bb346",
   "metadata": {},
   "source": []
  }
 ],
 "metadata": {
  "language_info": {
   "name": "python"
  }
 },
 "nbformat": 4,
 "nbformat_minor": 5
}
